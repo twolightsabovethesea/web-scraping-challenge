{
 "cells": [
  {
   "cell_type": "code",
   "execution_count": 55,
   "id": "5112cd56-a027-47e4-9bc5-e5ba0ed67f8f",
   "metadata": {},
   "outputs": [],
   "source": [
    "# import dependencies\n",
    "import pandas as pd\n",
    "from bs4 import BeautifulSoup as bs\n",
    "import requests\n",
    "import os\n",
    "from splinter import Browser\n",
    "from webdriver_manager.chrome import ChromeDriverManager\n",
    "import pymongo\n",
    "\n",
    "import scrape_mars\n",
    "\n",
    "from bson.json_util import dumps, loads"
   ]
  },
  {
   "cell_type": "code",
   "execution_count": 2,
   "id": "fa797782-e557-40ea-83c1-add2b45c583b",
   "metadata": {},
   "outputs": [],
   "source": [
    "# url to be scraped\n",
    "mars_url = 'https://redplanetscience.com/'"
   ]
  },
  {
   "cell_type": "code",
   "execution_count": 3,
   "id": "49d4c00b-4686-47b7-b61c-7bcac678f857",
   "metadata": {},
   "outputs": [],
   "source": [
    "# use requests module to retrieve the page\n",
    "\n",
    "#mars_response = requests.get(mars_url)"
   ]
  },
  {
   "cell_type": "code",
   "execution_count": 4,
   "id": "6f8b574a-de51-47ed-8f2e-962aeb4b0400",
   "metadata": {},
   "outputs": [
    {
     "name": "stderr",
     "output_type": "stream",
     "text": [
      "\n",
      "\n",
      "====== WebDriver manager ======\n",
      "Current google-chrome version is 93.0.4577\n",
      "Get LATEST driver version for 93.0.4577\n",
      "Get LATEST driver version for 93.0.4577\n",
      "Trying to download new driver from https://chromedriver.storage.googleapis.com/93.0.4577.63/chromedriver_mac64.zip\n",
      "Driver has been saved in cache [/Users/meredithhopkins/.wdm/drivers/chromedriver/mac64/93.0.4577.63]\n"
     ]
    }
   ],
   "source": [
    "# prepare browser\n",
    "executable_path = {'executable_path': ChromeDriverManager().install()}\n",
    "browser = Browser('chrome', **executable_path, headless=False)"
   ]
  },
  {
   "cell_type": "code",
   "execution_count": 5,
   "id": "c33f186a-cb1c-422d-8f9a-130b6a18cd79",
   "metadata": {},
   "outputs": [],
   "source": [
    "# visit the url\n",
    "browser.visit(mars_url)"
   ]
  },
  {
   "cell_type": "code",
   "execution_count": 6,
   "id": "9fc984ad-a473-4de8-bc21-4d106010d7e0",
   "metadata": {},
   "outputs": [],
   "source": [
    "# create beautiful soup object with html parser\n",
    "browser.is_element_present_by_css('div.list_text', wait_time=1)\n",
    "html = browser.html\n",
    "news_soup = bs(html, 'html.parser')"
   ]
  },
  {
   "cell_type": "code",
   "execution_count": 7,
   "id": "0e49ebc7-4e6b-47f1-8342-8c48c8c98cf4",
   "metadata": {},
   "outputs": [
    {
     "name": "stdout",
     "output_type": "stream",
     "text": [
      "Air Deliveries Bring NASA's Perseverance Mars Rover Closer to Launch\n"
     ]
    }
   ],
   "source": [
    "# collect the most recent article title and store it in a variable\n",
    "news_title = news_soup.find('div', class_='content_title').text\n",
    "print(news_title)"
   ]
  },
  {
   "cell_type": "code",
   "execution_count": 8,
   "id": "7ebbc506-899e-4f1a-996f-d752d273b100",
   "metadata": {},
   "outputs": [
    {
     "name": "stdout",
     "output_type": "stream",
     "text": [
      "A NASA Wallops Flight Facility cargo plane transported more than two tons of equipment — including the rover's sample collection tubes — to Florida for this summer's liftoff.\n"
     ]
    }
   ],
   "source": [
    "# collect the text of the most recent article and store it in a variable\n",
    "news_p = news_soup.find(\"div\", class_=\"article_teaser_body\").text\n",
    "print(news_p)\n"
   ]
  },
  {
   "cell_type": "code",
   "execution_count": 9,
   "id": "288e6ec0-fdff-4f10-a1f5-d2b13187baf8",
   "metadata": {},
   "outputs": [],
   "source": [
    "#news_soup"
   ]
  },
  {
   "cell_type": "code",
   "execution_count": 10,
   "id": "46b2c95f-b727-41f4-9432-4201040a681f",
   "metadata": {},
   "outputs": [],
   "source": [
    "# url to be scraped\n",
    "\n",
    "space_url = 'https://spaceimages-mars.com'"
   ]
  },
  {
   "cell_type": "code",
   "execution_count": 11,
   "id": "6f69a7a0-23e1-4e6f-9128-de7de10f4f22",
   "metadata": {},
   "outputs": [],
   "source": [
    "#visit url\n",
    "browser.visit(space_url)"
   ]
  },
  {
   "cell_type": "code",
   "execution_count": 12,
   "id": "7a521a0e-3d7f-48c4-99f7-670360b153d2",
   "metadata": {},
   "outputs": [],
   "source": [
    "# create beautiful soup object with html parser\n",
    "space_html = browser.html\n",
    "space_soup = bs(space_html, 'html.parser')"
   ]
  },
  {
   "cell_type": "code",
   "execution_count": 13,
   "id": "d6650745-3477-4df8-b269-f6299aa75f52",
   "metadata": {},
   "outputs": [],
   "source": [
    "#print(space_soup)"
   ]
  },
  {
   "cell_type": "code",
   "execution_count": null,
   "id": "d0a801fc-7a3e-4445-9d14-09076dc8b947",
   "metadata": {},
   "outputs": [],
   "source": []
  },
  {
   "cell_type": "code",
   "execution_count": 14,
   "id": "192f61dd-a524-4de7-8240-2687bf73caf6",
   "metadata": {},
   "outputs": [
    {
     "name": "stdout",
     "output_type": "stream",
     "text": [
      "image/featured/mars1.jpg\n"
     ]
    }
   ],
   "source": [
    "# save the url for the featured image to a variable\n",
    "image = space_soup.find('img', class_=\"headerimage fade-in\").get('src')\n",
    "\n",
    "print(image)\n",
    "\n"
   ]
  },
  {
   "cell_type": "code",
   "execution_count": 15,
   "id": "edbb66ed-94be-45ea-b103-9e859798aa54",
   "metadata": {},
   "outputs": [
    {
     "data": {
      "text/plain": [
       "'https://spaceimages-mars.com/image/featured/mars1.jpg'"
      ]
     },
     "execution_count": 15,
     "metadata": {},
     "output_type": "execute_result"
    }
   ],
   "source": [
    "#concatenate base url with / and image to create full image url\n",
    "image_url = space_url + '/' + image\n",
    "image_url"
   ]
  },
  {
   "cell_type": "code",
   "execution_count": 16,
   "id": "d07f7882-6e12-412a-adb7-605f62699aa3",
   "metadata": {},
   "outputs": [],
   "source": [
    "# put the desired url in a variable\n",
    "facts_url = 'https://galaxyfacts-mars.com'"
   ]
  },
  {
   "cell_type": "code",
   "execution_count": 17,
   "id": "9e65730c-8947-40f9-929a-42eab12346f0",
   "metadata": {},
   "outputs": [
    {
     "data": {
      "text/plain": [
       "[                         0                1                2\n",
       " 0  Mars - Earth Comparison             Mars            Earth\n",
       " 1                Diameter:         6,779 km        12,742 km\n",
       " 2                    Mass:  6.39 × 10^23 kg  5.97 × 10^24 kg\n",
       " 3                   Moons:                2                1\n",
       " 4       Distance from Sun:   227,943,824 km   149,598,262 km\n",
       " 5          Length of Year:   687 Earth days      365.24 days\n",
       " 6             Temperature:     -87 to -5 °C      -88 to 58°C,\n",
       "                       0                              1\n",
       " 0  Equatorial Diameter:                       6,792 km\n",
       " 1       Polar Diameter:                       6,752 km\n",
       " 2                 Mass:  6.39 × 10^23 kg (0.11 Earths)\n",
       " 3                Moons:          2 ( Phobos & Deimos )\n",
       " 4       Orbit Distance:       227,943,824 km (1.38 AU)\n",
       " 5         Orbit Period:           687 days (1.9 years)\n",
       " 6  Surface Temperature:                   -87 to -5 °C\n",
       " 7         First Record:              2nd millennium BC\n",
       " 8          Recorded By:           Egyptian astronomers]"
      ]
     },
     "execution_count": 17,
     "metadata": {},
     "output_type": "execute_result"
    }
   ],
   "source": [
    "# read the table at that url into Pandas\n",
    "table = pd.read_html(facts_url)\n",
    "table"
   ]
  },
  {
   "cell_type": "code",
   "execution_count": 18,
   "id": "dfdf20ca-4784-49f2-9b39-ab2c25cfbc82",
   "metadata": {},
   "outputs": [
    {
     "data": {
      "text/plain": [
       "list"
      ]
     },
     "execution_count": 18,
     "metadata": {},
     "output_type": "execute_result"
    }
   ],
   "source": [
    "type(table)"
   ]
  },
  {
   "cell_type": "code",
   "execution_count": 19,
   "id": "d7485349-0b4a-4bd8-a4f6-ce8d4b123243",
   "metadata": {},
   "outputs": [],
   "source": [
    "# convert the table to a DataFrame\n",
    "\n",
    "facts_df = table[0]"
   ]
  },
  {
   "cell_type": "code",
   "execution_count": 20,
   "id": "470d67fe-ebc6-4ce7-9007-0aab60bda5f6",
   "metadata": {},
   "outputs": [],
   "source": [
    "# rename columns\n",
    "facts_df.columns=['Comparison', 'Mars', 'Earth']"
   ]
  },
  {
   "cell_type": "code",
   "execution_count": 21,
   "id": "33139d42-d3b9-4289-bb0c-8b1ce7e92653",
   "metadata": {},
   "outputs": [
    {
     "data": {
      "text/html": [
       "<div>\n",
       "<style scoped>\n",
       "    .dataframe tbody tr th:only-of-type {\n",
       "        vertical-align: middle;\n",
       "    }\n",
       "\n",
       "    .dataframe tbody tr th {\n",
       "        vertical-align: top;\n",
       "    }\n",
       "\n",
       "    .dataframe thead th {\n",
       "        text-align: right;\n",
       "    }\n",
       "</style>\n",
       "<table border=\"1\" class=\"dataframe\">\n",
       "  <thead>\n",
       "    <tr style=\"text-align: right;\">\n",
       "      <th></th>\n",
       "      <th>Comparison</th>\n",
       "      <th>Mars</th>\n",
       "      <th>Earth</th>\n",
       "    </tr>\n",
       "  </thead>\n",
       "  <tbody>\n",
       "    <tr>\n",
       "      <th>1</th>\n",
       "      <td>Diameter:</td>\n",
       "      <td>6,779 km</td>\n",
       "      <td>12,742 km</td>\n",
       "    </tr>\n",
       "    <tr>\n",
       "      <th>2</th>\n",
       "      <td>Mass:</td>\n",
       "      <td>6.39 × 10^23 kg</td>\n",
       "      <td>5.97 × 10^24 kg</td>\n",
       "    </tr>\n",
       "    <tr>\n",
       "      <th>3</th>\n",
       "      <td>Moons:</td>\n",
       "      <td>2</td>\n",
       "      <td>1</td>\n",
       "    </tr>\n",
       "    <tr>\n",
       "      <th>4</th>\n",
       "      <td>Distance from Sun:</td>\n",
       "      <td>227,943,824 km</td>\n",
       "      <td>149,598,262 km</td>\n",
       "    </tr>\n",
       "    <tr>\n",
       "      <th>5</th>\n",
       "      <td>Length of Year:</td>\n",
       "      <td>687 Earth days</td>\n",
       "      <td>365.24 days</td>\n",
       "    </tr>\n",
       "    <tr>\n",
       "      <th>6</th>\n",
       "      <td>Temperature:</td>\n",
       "      <td>-87 to -5 °C</td>\n",
       "      <td>-88 to 58°C</td>\n",
       "    </tr>\n",
       "  </tbody>\n",
       "</table>\n",
       "</div>"
      ],
      "text/plain": [
       "           Comparison             Mars            Earth\n",
       "1           Diameter:         6,779 km        12,742 km\n",
       "2               Mass:  6.39 × 10^23 kg  5.97 × 10^24 kg\n",
       "3              Moons:                2                1\n",
       "4  Distance from Sun:   227,943,824 km   149,598,262 km\n",
       "5     Length of Year:   687 Earth days      365.24 days\n",
       "6        Temperature:     -87 to -5 °C      -88 to 58°C"
      ]
     },
     "execution_count": 21,
     "metadata": {},
     "output_type": "execute_result"
    }
   ],
   "source": [
    "# drop unnecessary row\n",
    "facts_df = facts_df.drop(0, axis=0)\n",
    "facts_df"
   ]
  },
  {
   "cell_type": "code",
   "execution_count": 22,
   "id": "c9ecaca3-5691-42da-b306-4bbf1cbbfb8d",
   "metadata": {},
   "outputs": [],
   "source": [
    "#convert the dataframe to html\n",
    "html_table = facts_df.to_html()"
   ]
  },
  {
   "cell_type": "code",
   "execution_count": 23,
   "id": "9d3ed347-1c17-4ebf-bd96-1b9ca6c77027",
   "metadata": {},
   "outputs": [
    {
     "data": {
      "text/plain": [
       "'<table border=\"1\" class=\"dataframe\">\\n  <thead>\\n    <tr style=\"text-align: right;\">\\n      <th></th>\\n      <th>Comparison</th>\\n      <th>Mars</th>\\n      <th>Earth</th>\\n    </tr>\\n  </thead>\\n  <tbody>\\n    <tr>\\n      <th>1</th>\\n      <td>Diameter:</td>\\n      <td>6,779 km</td>\\n      <td>12,742 km</td>\\n    </tr>\\n    <tr>\\n      <th>2</th>\\n      <td>Mass:</td>\\n      <td>6.39 × 10^23 kg</td>\\n      <td>5.97 × 10^24 kg</td>\\n    </tr>\\n    <tr>\\n      <th>3</th>\\n      <td>Moons:</td>\\n      <td>2</td>\\n      <td>1</td>\\n    </tr>\\n    <tr>\\n      <th>4</th>\\n      <td>Distance from Sun:</td>\\n      <td>227,943,824 km</td>\\n      <td>149,598,262 km</td>\\n    </tr>\\n    <tr>\\n      <th>5</th>\\n      <td>Length of Year:</td>\\n      <td>687 Earth days</td>\\n      <td>365.24 days</td>\\n    </tr>\\n    <tr>\\n      <th>6</th>\\n      <td>Temperature:</td>\\n      <td>-87 to -5 °C</td>\\n      <td>-88 to 58°C</td>\\n    </tr>\\n  </tbody>\\n</table>'"
      ]
     },
     "execution_count": 23,
     "metadata": {},
     "output_type": "execute_result"
    }
   ],
   "source": [
    "html_table"
   ]
  },
  {
   "cell_type": "code",
   "execution_count": 24,
   "id": "f1c6b6a7-97cf-4a28-bfd7-877f1d8d9a3b",
   "metadata": {},
   "outputs": [],
   "source": [
    "# alias url for scraping hemisphere images\n",
    "hemi_url = 'https://marshemispheres.com/'"
   ]
  },
  {
   "cell_type": "code",
   "execution_count": 25,
   "id": "04c95f0f-470e-498b-94d8-9865c8eb6e7d",
   "metadata": {},
   "outputs": [
    {
     "name": "stderr",
     "output_type": "stream",
     "text": [
      "\n",
      "\n",
      "====== WebDriver manager ======\n",
      "Current google-chrome version is 93.0.4577\n",
      "Get LATEST driver version for 93.0.4577\n",
      "Driver [/Users/meredithhopkins/.wdm/drivers/chromedriver/mac64/93.0.4577.63/chromedriver] found in cache\n"
     ]
    }
   ],
   "source": [
    "executable_path = {'executable_path': ChromeDriverManager().install()}\n",
    "browser = Browser('chrome', **executable_path, headless=False)"
   ]
  },
  {
   "cell_type": "code",
   "execution_count": 26,
   "id": "15232907-67df-4401-9d93-6fafffb6a740",
   "metadata": {},
   "outputs": [],
   "source": [
    "# visit url\n",
    "browser.visit(hemi_url)"
   ]
  },
  {
   "cell_type": "code",
   "execution_count": 27,
   "id": "c0b1c5b9-0d95-4b51-88f7-b082769260d9",
   "metadata": {},
   "outputs": [],
   "source": [
    "# create beautiful soup object with html parser\n",
    "browser.is_element_present_by_css('div.list_text', wait_time=1)\n",
    "html = browser.html\n",
    "hemi_soup = bs(html, 'html.parser')"
   ]
  },
  {
   "cell_type": "code",
   "execution_count": 28,
   "id": "87563e8a-f6fa-4116-8ccc-d85e808f50dc",
   "metadata": {},
   "outputs": [],
   "source": [
    "#hemi_soup"
   ]
  },
  {
   "cell_type": "code",
   "execution_count": 29,
   "id": "4bcfb9fd-d588-442e-9863-111d2514917d",
   "metadata": {},
   "outputs": [],
   "source": [
    "# prepare for loop\n",
    "pre_loop = hemi_soup.find(\"div\", class_=\"collapsible results\")"
   ]
  },
  {
   "cell_type": "code",
   "execution_count": 30,
   "id": "286ae2b9-e6d1-4224-bc2e-8f53a25ebd7a",
   "metadata": {},
   "outputs": [],
   "source": [
    "# get specific portion for loop\n",
    "loop = pre_loop.find_all('a')"
   ]
  },
  {
   "cell_type": "code",
   "execution_count": 31,
   "id": "085e18d4-13a8-4a03-972c-cec49ce0c598",
   "metadata": {},
   "outputs": [],
   "source": [
    "#loop"
   ]
  },
  {
   "cell_type": "code",
   "execution_count": 32,
   "id": "f384fdb7-7810-4cce-aa9e-59061ca6605f",
   "metadata": {},
   "outputs": [],
   "source": [
    "# loop through html to get titles and urls for hemisphere images and store them in a list of dictionaries\n",
    "hemisphere_image_urls = []\n",
    "for x in loop:\n",
    "    if x.h3:\n",
    "        title = x.h3.text\n",
    "        new_url = hemi_url + x['href']\n",
    "        browser.visit(new_url)\n",
    "        browser.is_element_present_by_css('div.list_text', wait_time=1)\n",
    "        html = browser.html\n",
    "        new_soup = bs(html, 'html.parser')\n",
    "        part = new_soup.find('img', class_=\"wide-image\").get('src')\n",
    "        full_url = hemi_url + part\n",
    "        hemi_dict = {}\n",
    "        hemi_dict['title'] = title\n",
    "        hemi_dict['image_url'] = full_url\n",
    "        hemisphere_image_urls.append(hemi_dict)\n",
    "        browser.back()\n",
    "        "
   ]
  },
  {
   "cell_type": "code",
   "execution_count": 33,
   "id": "9cb774e9-3a56-44cb-a93e-1bb53def1bae",
   "metadata": {},
   "outputs": [
    {
     "data": {
      "text/plain": [
       "'https://marshemispheres.com/valles.html'"
      ]
     },
     "execution_count": 33,
     "metadata": {},
     "output_type": "execute_result"
    }
   ],
   "source": [
    "new_url"
   ]
  },
  {
   "cell_type": "code",
   "execution_count": 34,
   "id": "de292c12-dd75-4cc9-b74f-0fb48ba6216c",
   "metadata": {},
   "outputs": [
    {
     "data": {
      "text/plain": [
       "'https://marshemispheres.com/images/b3c7c6c9138f57b4756be9b9c43e3a48_valles_marineris_enhanced.tif_full.jpg'"
      ]
     },
     "execution_count": 34,
     "metadata": {},
     "output_type": "execute_result"
    }
   ],
   "source": [
    "full_url"
   ]
  },
  {
   "cell_type": "code",
   "execution_count": 35,
   "id": "09582e89-aa73-4626-94d5-c80bddac551f",
   "metadata": {},
   "outputs": [
    {
     "data": {
      "text/plain": [
       "[{'title': 'Cerberus Hemisphere Enhanced',\n",
       "  'image_url': 'https://marshemispheres.com/images/f5e372a36edfa389625da6d0cc25d905_cerberus_enhanced.tif_full.jpg'},\n",
       " {'title': 'Schiaparelli Hemisphere Enhanced',\n",
       "  'image_url': 'https://marshemispheres.com/images/3778f7b43bbbc89d6e3cfabb3613ba93_schiaparelli_enhanced.tif_full.jpg'},\n",
       " {'title': 'Syrtis Major Hemisphere Enhanced',\n",
       "  'image_url': 'https://marshemispheres.com/images/555e6403a6ddd7ba16ddb0e471cadcf7_syrtis_major_enhanced.tif_full.jpg'},\n",
       " {'title': 'Valles Marineris Hemisphere Enhanced',\n",
       "  'image_url': 'https://marshemispheres.com/images/b3c7c6c9138f57b4756be9b9c43e3a48_valles_marineris_enhanced.tif_full.jpg'}]"
      ]
     },
     "execution_count": 35,
     "metadata": {},
     "output_type": "execute_result"
    }
   ],
   "source": [
    "# check that titles and urls were collected correctly\n",
    "hemisphere_image_urls"
   ]
  },
  {
   "cell_type": "code",
   "execution_count": 36,
   "id": "761d8067-0d20-4421-9d35-910720090be5",
   "metadata": {},
   "outputs": [],
   "source": [
    "mars_dictionary = {}\n",
    "mars_dictionary['news_title'] = news_title\n",
    "mars_dictionary['news_paragraph'] = news_p\n",
    "mars_dictionary['mars_image'] = image_url\n",
    "mars_dictionary['mars_facts_table'] = html_table\n",
    "mars_dictionary['hemisphere_images'] = hemisphere_image_urls"
   ]
  },
  {
   "cell_type": "code",
   "execution_count": 37,
   "id": "333368f4-af3d-4ff0-b1b5-d3da5281c92e",
   "metadata": {},
   "outputs": [
    {
     "name": "stdout",
     "output_type": "stream",
     "text": [
      "{'news_title': \"Air Deliveries Bring NASA's Perseverance Mars Rover Closer to Launch\", 'news_paragraph': \"A NASA Wallops Flight Facility cargo plane transported more than two tons of equipment — including the rover's sample collection tubes — to Florida for this summer's liftoff.\", 'mars_image': 'https://spaceimages-mars.com/image/featured/mars1.jpg', 'mars_facts_table': '<table border=\"1\" class=\"dataframe\">\\n  <thead>\\n    <tr style=\"text-align: right;\">\\n      <th></th>\\n      <th>Comparison</th>\\n      <th>Mars</th>\\n      <th>Earth</th>\\n    </tr>\\n  </thead>\\n  <tbody>\\n    <tr>\\n      <th>1</th>\\n      <td>Diameter:</td>\\n      <td>6,779 km</td>\\n      <td>12,742 km</td>\\n    </tr>\\n    <tr>\\n      <th>2</th>\\n      <td>Mass:</td>\\n      <td>6.39 × 10^23 kg</td>\\n      <td>5.97 × 10^24 kg</td>\\n    </tr>\\n    <tr>\\n      <th>3</th>\\n      <td>Moons:</td>\\n      <td>2</td>\\n      <td>1</td>\\n    </tr>\\n    <tr>\\n      <th>4</th>\\n      <td>Distance from Sun:</td>\\n      <td>227,943,824 km</td>\\n      <td>149,598,262 km</td>\\n    </tr>\\n    <tr>\\n      <th>5</th>\\n      <td>Length of Year:</td>\\n      <td>687 Earth days</td>\\n      <td>365.24 days</td>\\n    </tr>\\n    <tr>\\n      <th>6</th>\\n      <td>Temperature:</td>\\n      <td>-87 to -5 °C</td>\\n      <td>-88 to 58°C</td>\\n    </tr>\\n  </tbody>\\n</table>', 'hemisphere_images': [{'title': 'Cerberus Hemisphere Enhanced', 'image_url': 'https://marshemispheres.com/images/f5e372a36edfa389625da6d0cc25d905_cerberus_enhanced.tif_full.jpg'}, {'title': 'Schiaparelli Hemisphere Enhanced', 'image_url': 'https://marshemispheres.com/images/3778f7b43bbbc89d6e3cfabb3613ba93_schiaparelli_enhanced.tif_full.jpg'}, {'title': 'Syrtis Major Hemisphere Enhanced', 'image_url': 'https://marshemispheres.com/images/555e6403a6ddd7ba16ddb0e471cadcf7_syrtis_major_enhanced.tif_full.jpg'}, {'title': 'Valles Marineris Hemisphere Enhanced', 'image_url': 'https://marshemispheres.com/images/b3c7c6c9138f57b4756be9b9c43e3a48_valles_marineris_enhanced.tif_full.jpg'}]}\n"
     ]
    }
   ],
   "source": [
    "print(mars_dictionary)"
   ]
  },
  {
   "cell_type": "markdown",
   "id": "08f095b3-c9f1-41f2-bade-47619aaf5680",
   "metadata": {},
   "source": [
    "# Below this is test code"
   ]
  },
  {
   "cell_type": "code",
   "execution_count": 38,
   "id": "d38c6591-aba6-4c2c-99f7-9fa6eff3f356",
   "metadata": {},
   "outputs": [],
   "source": [
    "mars_dictionary = {}\n",
    "mars_dictionary['news_title'] = news_title\n",
    "mars_dictionary['news_paragraph'] = news_p\n",
    "mars_dictionary['mars_image'] = image_url\n",
    "mars_dictionary['mars_facts_table'] = html_table\n",
    "mars_dictionary['hemisphere_images'] = hemisphere_image_urls"
   ]
  },
  {
   "cell_type": "code",
   "execution_count": 39,
   "id": "c4aed8f9-29d0-4193-b27b-515617a5ca52",
   "metadata": {},
   "outputs": [],
   "source": [
    "conn = 'mongodb://localhost:27017'\n",
    "\n",
    "# Pass connection to the pymongo instance.\n",
    "client = pymongo.MongoClient(conn)\n",
    "\n",
    "# Connect to a database. Will create one if not already available.\n",
    "db = client.mars_db"
   ]
  },
  {
   "cell_type": "code",
   "execution_count": 40,
   "id": "7d383387-49ee-49bb-9d40-db1fd1e2f65c",
   "metadata": {},
   "outputs": [
    {
     "data": {
      "text/plain": [
       "<pymongo.results.InsertOneResult at 0x7fa778f296e0>"
      ]
     },
     "execution_count": 40,
     "metadata": {},
     "output_type": "execute_result"
    }
   ],
   "source": [
    "db.mars.drop()\n",
    "\n",
    "post = mars_dictionary\n",
    "\n",
    "db.mars.insert_one(post)"
   ]
  },
  {
   "cell_type": "code",
   "execution_count": 62,
   "id": "10f38f5a-317b-40cb-bf93-b80d8cae067a",
   "metadata": {},
   "outputs": [],
   "source": [
    "mars = db.mars"
   ]
  },
  {
   "cell_type": "code",
   "execution_count": 73,
   "id": "0c88461c-2417-4b5e-8dcc-39ca46d3189e",
   "metadata": {},
   "outputs": [
    {
     "ename": "TypeError",
     "evalue": "'Collection' object is not callable. If you meant to call the 'find_all' method on a 'Collection' object it is failing because no such method exists.",
     "output_type": "error",
     "traceback": [
      "\u001b[0;31m---------------------------------------------------------------------------\u001b[0m",
      "\u001b[0;31mTypeError\u001b[0m                                 Traceback (most recent call last)",
      "\u001b[0;32m<ipython-input-73-8188b179de34>\u001b[0m in \u001b[0;36m<module>\u001b[0;34m\u001b[0m\n\u001b[0;32m----> 1\u001b[0;31m \u001b[0mnt\u001b[0m \u001b[0;34m=\u001b[0m \u001b[0mmars\u001b[0m\u001b[0;34m.\u001b[0m\u001b[0mfind_all\u001b[0m\u001b[0;34m(\u001b[0m\u001b[0;34m'news_title'\u001b[0m\u001b[0;34m)\u001b[0m\u001b[0;34m\u001b[0m\u001b[0;34m\u001b[0m\u001b[0m\n\u001b[0m",
      "\u001b[0;32m/opt/anaconda3/envs/dev/lib/python3.7/site-packages/pymongo/collection.py\u001b[0m in \u001b[0;36m__call__\u001b[0;34m(self, *args, **kwargs)\u001b[0m\n\u001b[1;32m   3486\u001b[0m                         \u001b[0;34m\"call the '%s' method on a 'Collection' object it is \"\u001b[0m\u001b[0;34m\u001b[0m\u001b[0;34m\u001b[0m\u001b[0m\n\u001b[1;32m   3487\u001b[0m                         \u001b[0;34m\"failing because no such method exists.\"\u001b[0m \u001b[0;34m%\u001b[0m\u001b[0;34m\u001b[0m\u001b[0;34m\u001b[0m\u001b[0m\n\u001b[0;32m-> 3488\u001b[0;31m                         self.__name.split(\".\")[-1])\n\u001b[0m",
      "\u001b[0;31mTypeError\u001b[0m: 'Collection' object is not callable. If you meant to call the 'find_all' method on a 'Collection' object it is failing because no such method exists."
     ]
    }
   ],
   "source": [
    "nt = mars.find_all('news_title')"
   ]
  },
  {
   "cell_type": "code",
   "execution_count": 70,
   "id": "2e2fa1e2-a17f-4759-9cd5-21edb98054ab",
   "metadata": {},
   "outputs": [
    {
     "name": "stdout",
     "output_type": "stream",
     "text": [
      "None\n"
     ]
    }
   ],
   "source": [
    "print(nt)"
   ]
  },
  {
   "cell_type": "code",
   "execution_count": 41,
   "id": "27d705de-6147-4d00-8357-9feb6cbb0ef4",
   "metadata": {},
   "outputs": [],
   "source": [
    "col = db.mars\n",
    "cursor = col.find()\n",
    "list_cur = list(cursor)\n",
    "json_data = dumps(list_cur)"
   ]
  },
  {
   "cell_type": "code",
   "execution_count": 42,
   "id": "9b02f755-3049-4886-a017-2bdcc008a9a5",
   "metadata": {},
   "outputs": [
    {
     "data": {
      "text/plain": [
       "'[{\"_id\": {\"$oid\": \"6143f60887291d926fde8423\"}, \"news_title\": \"Air Deliveries Bring NASA\\'s Perseverance Mars Rover Closer to Launch\", \"news_paragraph\": \"A NASA Wallops Flight Facility cargo plane transported more than two tons of equipment \\\\u2014 including the rover\\'s sample collection tubes \\\\u2014 to Florida for this summer\\'s liftoff.\", \"mars_image\": \"https://spaceimages-mars.com/image/featured/mars1.jpg\", \"mars_facts_table\": \"<table border=\\\\\"1\\\\\" class=\\\\\"dataframe\\\\\">\\\\n  <thead>\\\\n    <tr style=\\\\\"text-align: right;\\\\\">\\\\n      <th></th>\\\\n      <th>Comparison</th>\\\\n      <th>Mars</th>\\\\n      <th>Earth</th>\\\\n    </tr>\\\\n  </thead>\\\\n  <tbody>\\\\n    <tr>\\\\n      <th>1</th>\\\\n      <td>Diameter:</td>\\\\n      <td>6,779 km</td>\\\\n      <td>12,742 km</td>\\\\n    </tr>\\\\n    <tr>\\\\n      <th>2</th>\\\\n      <td>Mass:</td>\\\\n      <td>6.39 \\\\u00d7 10^23 kg</td>\\\\n      <td>5.97 \\\\u00d7 10^24 kg</td>\\\\n    </tr>\\\\n    <tr>\\\\n      <th>3</th>\\\\n      <td>Moons:</td>\\\\n      <td>2</td>\\\\n      <td>1</td>\\\\n    </tr>\\\\n    <tr>\\\\n      <th>4</th>\\\\n      <td>Distance from Sun:</td>\\\\n      <td>227,943,824 km</td>\\\\n      <td>149,598,262 km</td>\\\\n    </tr>\\\\n    <tr>\\\\n      <th>5</th>\\\\n      <td>Length of Year:</td>\\\\n      <td>687 Earth days</td>\\\\n      <td>365.24 days</td>\\\\n    </tr>\\\\n    <tr>\\\\n      <th>6</th>\\\\n      <td>Temperature:</td>\\\\n      <td>-87 to -5 \\\\u00b0C</td>\\\\n      <td>-88 to 58\\\\u00b0C</td>\\\\n    </tr>\\\\n  </tbody>\\\\n</table>\", \"hemisphere_images\": [{\"title\": \"Cerberus Hemisphere Enhanced\", \"image_url\": \"https://marshemispheres.com/images/f5e372a36edfa389625da6d0cc25d905_cerberus_enhanced.tif_full.jpg\"}, {\"title\": \"Schiaparelli Hemisphere Enhanced\", \"image_url\": \"https://marshemispheres.com/images/3778f7b43bbbc89d6e3cfabb3613ba93_schiaparelli_enhanced.tif_full.jpg\"}, {\"title\": \"Syrtis Major Hemisphere Enhanced\", \"image_url\": \"https://marshemispheres.com/images/555e6403a6ddd7ba16ddb0e471cadcf7_syrtis_major_enhanced.tif_full.jpg\"}, {\"title\": \"Valles Marineris Hemisphere Enhanced\", \"image_url\": \"https://marshemispheres.com/images/b3c7c6c9138f57b4756be9b9c43e3a48_valles_marineris_enhanced.tif_full.jpg\"}]}]'"
      ]
     },
     "execution_count": 42,
     "metadata": {},
     "output_type": "execute_result"
    }
   ],
   "source": [
    "json_data"
   ]
  },
  {
   "cell_type": "code",
   "execution_count": 56,
   "id": "cadd216a-90be-42ae-9827-d8ecc13dcd7c",
   "metadata": {},
   "outputs": [],
   "source": [
    "loaded = loads(json_data)"
   ]
  },
  {
   "cell_type": "code",
   "execution_count": 57,
   "id": "2bcee8dd-bdfd-403e-8bcf-8671079f0f48",
   "metadata": {},
   "outputs": [
    {
     "data": {
      "text/plain": [
       "[{'_id': ObjectId('6143f60887291d926fde8423'),\n",
       "  'news_title': \"Air Deliveries Bring NASA's Perseverance Mars Rover Closer to Launch\",\n",
       "  'news_paragraph': \"A NASA Wallops Flight Facility cargo plane transported more than two tons of equipment — including the rover's sample collection tubes — to Florida for this summer's liftoff.\",\n",
       "  'mars_image': 'https://spaceimages-mars.com/image/featured/mars1.jpg',\n",
       "  'mars_facts_table': '<table border=\"1\" class=\"dataframe\">\\n  <thead>\\n    <tr style=\"text-align: right;\">\\n      <th></th>\\n      <th>Comparison</th>\\n      <th>Mars</th>\\n      <th>Earth</th>\\n    </tr>\\n  </thead>\\n  <tbody>\\n    <tr>\\n      <th>1</th>\\n      <td>Diameter:</td>\\n      <td>6,779 km</td>\\n      <td>12,742 km</td>\\n    </tr>\\n    <tr>\\n      <th>2</th>\\n      <td>Mass:</td>\\n      <td>6.39 × 10^23 kg</td>\\n      <td>5.97 × 10^24 kg</td>\\n    </tr>\\n    <tr>\\n      <th>3</th>\\n      <td>Moons:</td>\\n      <td>2</td>\\n      <td>1</td>\\n    </tr>\\n    <tr>\\n      <th>4</th>\\n      <td>Distance from Sun:</td>\\n      <td>227,943,824 km</td>\\n      <td>149,598,262 km</td>\\n    </tr>\\n    <tr>\\n      <th>5</th>\\n      <td>Length of Year:</td>\\n      <td>687 Earth days</td>\\n      <td>365.24 days</td>\\n    </tr>\\n    <tr>\\n      <th>6</th>\\n      <td>Temperature:</td>\\n      <td>-87 to -5 °C</td>\\n      <td>-88 to 58°C</td>\\n    </tr>\\n  </tbody>\\n</table>',\n",
       "  'hemisphere_images': [{'title': 'Cerberus Hemisphere Enhanced',\n",
       "    'image_url': 'https://marshemispheres.com/images/f5e372a36edfa389625da6d0cc25d905_cerberus_enhanced.tif_full.jpg'},\n",
       "   {'title': 'Schiaparelli Hemisphere Enhanced',\n",
       "    'image_url': 'https://marshemispheres.com/images/3778f7b43bbbc89d6e3cfabb3613ba93_schiaparelli_enhanced.tif_full.jpg'},\n",
       "   {'title': 'Syrtis Major Hemisphere Enhanced',\n",
       "    'image_url': 'https://marshemispheres.com/images/555e6403a6ddd7ba16ddb0e471cadcf7_syrtis_major_enhanced.tif_full.jpg'},\n",
       "   {'title': 'Valles Marineris Hemisphere Enhanced',\n",
       "    'image_url': 'https://marshemispheres.com/images/b3c7c6c9138f57b4756be9b9c43e3a48_valles_marineris_enhanced.tif_full.jpg'}]}]"
      ]
     },
     "execution_count": 57,
     "metadata": {},
     "output_type": "execute_result"
    }
   ],
   "source": [
    "loaded"
   ]
  },
  {
   "cell_type": "code",
   "execution_count": 71,
   "id": "e55d56de-d4fd-4c01-86a2-7c505fb40213",
   "metadata": {},
   "outputs": [
    {
     "ename": "TypeError",
     "evalue": "'list' object is not callable",
     "output_type": "error",
     "traceback": [
      "\u001b[0;31m---------------------------------------------------------------------------\u001b[0m",
      "\u001b[0;31mTypeError\u001b[0m                                 Traceback (most recent call last)",
      "\u001b[0;32m<ipython-input-71-58e5457be416>\u001b[0m in \u001b[0;36m<module>\u001b[0;34m\u001b[0m\n\u001b[0;32m----> 1\u001b[0;31m \u001b[0mnt\u001b[0m \u001b[0;34m=\u001b[0m \u001b[0mloaded\u001b[0m\u001b[0;34m(\u001b[0m\u001b[0;34m{\u001b[0m\u001b[0;34m'news_title'\u001b[0m\u001b[0;34m}\u001b[0m\u001b[0;34m)\u001b[0m\u001b[0;34m\u001b[0m\u001b[0;34m\u001b[0m\u001b[0m\n\u001b[0m",
      "\u001b[0;31mTypeError\u001b[0m: 'list' object is not callable"
     ]
    }
   ],
   "source": [
    "nt = loaded({'news_title'})"
   ]
  },
  {
   "cell_type": "code",
   "execution_count": null,
   "id": "3766b4c9-3846-4c6f-87a7-32ce25e6663f",
   "metadata": {},
   "outputs": [],
   "source": []
  }
 ],
 "metadata": {
  "kernelspec": {
   "display_name": "Python 3",
   "language": "python",
   "name": "python3"
  },
  "language_info": {
   "codemirror_mode": {
    "name": "ipython",
    "version": 3
   },
   "file_extension": ".py",
   "mimetype": "text/x-python",
   "name": "python",
   "nbconvert_exporter": "python",
   "pygments_lexer": "ipython3",
   "version": "3.7.10"
  }
 },
 "nbformat": 4,
 "nbformat_minor": 5
}
